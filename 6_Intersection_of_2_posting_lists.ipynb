{
  "nbformat": 4,
  "nbformat_minor": 0,
  "metadata": {
    "colab": {
      "provenance": []
    },
    "kernelspec": {
      "name": "python3",
      "display_name": "Python 3"
    },
    "language_info": {
      "name": "python"
    }
  },
  "cells": [
    {
      "cell_type": "markdown",
      "source": [
        "## Intersection of two posting lists using 2 pointer approach"
      ],
      "metadata": {
        "id": "aXUgpISYHeg9"
      }
    },
    {
      "cell_type": "code",
      "source": [
        "def intersection(list1, list2):\n",
        "  result=[]\n",
        "  i, j = 0, 0\n",
        "  while i < len(list1) and j < len(list2):\n",
        "    if list1[i] == list2[j]:\n",
        "      result.append(list1[i])\n",
        "      i += 1\n",
        "      j += 1\n",
        "    elif list1[i] < list2[j]:\n",
        "      i += 1\n",
        "    else:\n",
        "      j += 1\n",
        "  return result"
      ],
      "metadata": {
        "id": "C72CneFGG1H7"
      },
      "execution_count": null,
      "outputs": []
    },
    {
      "cell_type": "code",
      "execution_count": null,
      "metadata": {
        "colab": {
          "base_uri": "https://localhost:8080/"
        },
        "id": "9GcfPHpeFrLO",
        "outputId": "d046efc0-7387-4715-e47e-7d3657307132"
      },
      "outputs": [
        {
          "output_type": "stream",
          "name": "stdout",
          "text": [
            "Posting List 1 is: [1, 4, 7, 10, 13, 16, 19, 22, 25, 28]\n",
            "Posting List 2 is: [3, 6, 7, 12, 16, 18, 22, 27]\n",
            "Intersection of the two posting lists is: [7, 16, 22]\n"
          ]
        }
      ],
      "source": [
        "list1 = [1, 4, 7, 10, 13, 16, 19, 22, 25, 28]\n",
        "list2 = [3, 6, 7, 12, 16, 18, 22, 27]\n",
        "\n",
        "res = intersection(list1, list2)\n",
        "\n",
        "print(f\"Posting List 1 is: {list1}\")\n",
        "print(f\"Posting List 2 is: {list2}\")\n",
        "print(f\"Intersection of the two posting lists is: {res}\")"
      ]
    },
    {
      "cell_type": "markdown",
      "source": [
        "## Intersection of two posting lists using 2 pointer approach"
      ],
      "metadata": {
        "id": "XDthIRv8Huzd"
      }
    },
    {
      "cell_type": "code",
      "source": [
        "import math\n",
        "\n",
        "def skip_pointers(posting_list):\n",
        "  length = len(posting_list)\n",
        "  skip_interval = int(math.sqrt(length))\n",
        "  skip = [None] * length\n",
        "\n",
        "  for i in range(0, length, skip_interval):\n",
        "    if i + skip_interval <length:\n",
        "      skip[i] = i + skip_interval\n",
        "\n",
        "  return skip\n",
        "\n",
        "\n",
        "\n",
        "def intersection_using_skip_pointers(list1, list2, skip1, skip2):\n",
        "  result = []\n",
        "  i, j = 0, 0\n",
        "  while i < len(list1) and j < len(list2):\n",
        "    if list1[i] == list2[j]:\n",
        "      result.append(list1[i])\n",
        "      i += 1\n",
        "      j += 1\n",
        "    elif list1[i]<list2[j]:\n",
        "      # using skip pointer for list1\n",
        "      if skip1[i] is not None and list1[skip1[i]] <= list2[j]:\n",
        "        print(f\"Skipping from {list1[i]} to {list1[skip1[i]]} in list1\")\n",
        "        i = skip1[i]\n",
        "      else:\n",
        "        i += 1\n",
        "    else:\n",
        "      # Using skip pointer for list2\n",
        "      if skip2[j] is not None and list2[skip2[j]] <= list1[i]:\n",
        "        print(f\"Skipping from {list2[j]} to {list2[skip2[j]]} in list2\")\n",
        "        j = skip2[j]\n",
        "      else:\n",
        "        j += 1\n",
        "\n",
        "  return result"
      ],
      "metadata": {
        "id": "kkRHAfOvHv3a"
      },
      "execution_count": null,
      "outputs": []
    },
    {
      "cell_type": "code",
      "source": [
        "list1 = [1, 4, 7, 10, 13, 16, 19, 22, 25, 28]\n",
        "list2 = [3, 6, 7, 12, 16, 18, 22, 27]\n",
        "\n",
        "# Build skip pointers for both lists\n",
        "skip1 = skip_pointers(list1)\n",
        "skip2 = skip_pointers(list2)\n",
        "\n",
        "# Perform intersection using skip pointers\n",
        "result = intersection_using_skip_pointers(list1, list2, skip1, skip2)\n",
        "\n",
        "print(f\"Posting List 1 is: {list1}\")\n",
        "print(f\"Posting List 2 is: {list2}\")\n",
        "print(f\"Intersection of the two posting lists is: {result}\")"
      ],
      "metadata": {
        "colab": {
          "base_uri": "https://localhost:8080/"
        },
        "id": "XRa2uOquKwyM",
        "outputId": "75241105-504a-4dc3-b382-bc58198d4053"
      },
      "execution_count": null,
      "outputs": [
        {
          "output_type": "stream",
          "name": "stdout",
          "text": [
            "Posting List 1 is: [1, 4, 7, 10, 13, 16, 19, 22, 25, 28]\n",
            "Posting List 2 is: [3, 6, 7, 12, 16, 18, 22, 27]\n",
            "Intersection of the two posting lists is: [7, 16, 22]\n"
          ]
        }
      ]
    }
  ]
}