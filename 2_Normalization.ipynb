{
  "nbformat": 4,
  "nbformat_minor": 0,
  "metadata": {
    "colab": {
      "provenance": []
    },
    "kernelspec": {
      "name": "python3",
      "display_name": "Python 3"
    },
    "language_info": {
      "name": "python"
    }
  },
  "cells": [
    {
      "cell_type": "code",
      "source": [
        "# Importing Libraries\n",
        "import pandas as pd\n",
        "import numpy as np\n",
        "import seaborn as sns\n",
        "import matplotlib.pyplot as plt\n",
        "from sklearn.preprocessing import MinMaxScaler, StandardScaler"
      ],
      "metadata": {
        "id": "op-zwN7MJV83"
      },
      "execution_count": null,
      "outputs": []
    },
    {
      "cell_type": "markdown",
      "source": [
        "### Load Titanic Dataset"
      ],
      "metadata": {
        "id": "M0DU7C9hJV84"
      }
    },
    {
      "cell_type": "code",
      "source": [
        "df = pd.read_csv('/content/titanic.csv')"
      ],
      "metadata": {
        "id": "PyidcPTlJV84"
      },
      "execution_count": null,
      "outputs": []
    },
    {
      "cell_type": "markdown",
      "source": [
        "### Preview Dataset"
      ],
      "metadata": {
        "id": "jlGZG6yIJV85"
      }
    },
    {
      "cell_type": "code",
      "source": [
        "print(\"Original Titanic Dataset:\\n\", df.head())"
      ],
      "metadata": {
        "colab": {
          "base_uri": "https://localhost:8080/"
        },
        "outputId": "627fda96-4d6d-40d8-8042-63661471d1ed",
        "id": "68AnsuxZJV85"
      },
      "execution_count": null,
      "outputs": [
        {
          "output_type": "stream",
          "name": "stdout",
          "text": [
            "Original Titanic Dataset:\n",
            "    PassengerId  Survived  Pclass  \\\n",
            "0            1         0       3   \n",
            "1            2         1       1   \n",
            "2            3         1       3   \n",
            "3            4         1       1   \n",
            "4            5         0       3   \n",
            "\n",
            "                                                Name     Sex   Age  SibSp  \\\n",
            "0                            Braund, Mr. Owen Harris    male  22.0      1   \n",
            "1  Cumings, Mrs. John Bradley (Florence Briggs Th...  female  38.0      1   \n",
            "2                             Heikkinen, Miss. Laina  female  26.0      0   \n",
            "3       Futrelle, Mrs. Jacques Heath (Lily May Peel)  female  35.0      1   \n",
            "4                           Allen, Mr. William Henry    male  35.0      0   \n",
            "\n",
            "   Parch            Ticket     Fare Cabin Embarked  \n",
            "0      0         A/5 21171   7.2500   NaN        S  \n",
            "1      0          PC 17599  71.2833   C85        C  \n",
            "2      0  STON/O2. 3101282   7.9250   NaN        S  \n",
            "3      0            113803  53.1000  C123        S  \n",
            "4      0            373450   8.0500   NaN        S  \n"
          ]
        }
      ]
    },
    {
      "cell_type": "markdown",
      "source": [
        "### Handling Missing Values"
      ],
      "metadata": {
        "id": "5d_u4LgAJV85"
      }
    },
    {
      "cell_type": "code",
      "source": [
        "print(\"Missing Values Before Handling:\\n\", df.isna().sum())"
      ],
      "metadata": {
        "colab": {
          "base_uri": "https://localhost:8080/"
        },
        "outputId": "c6501375-1458-4eb6-fe28-584d1b46a68d",
        "id": "q57QPRO1JV86"
      },
      "execution_count": null,
      "outputs": [
        {
          "output_type": "stream",
          "name": "stdout",
          "text": [
            "Missing Values Before Handling:\n",
            " PassengerId      0\n",
            "Survived         0\n",
            "Pclass           0\n",
            "Name             0\n",
            "Sex              0\n",
            "Age            177\n",
            "SibSp            0\n",
            "Parch            0\n",
            "Ticket           0\n",
            "Fare             0\n",
            "Cabin          687\n",
            "Embarked         2\n",
            "dtype: int64\n"
          ]
        }
      ]
    },
    {
      "cell_type": "code",
      "source": [
        "df['Age'] = df['Age'].fillna(df['Age'].median())\n",
        "df['Embarked'] = df['Embarked'].fillna(df['Embarked'].mode()[0])"
      ],
      "metadata": {
        "id": "gzRJKtqeJV86"
      },
      "execution_count": null,
      "outputs": []
    },
    {
      "cell_type": "code",
      "source": [
        "df.drop(columns=['Cabin'], inplace=True)  # Drop sparse column"
      ],
      "metadata": {
        "id": "TGZ9I8WeJV86"
      },
      "execution_count": null,
      "outputs": []
    },
    {
      "cell_type": "code",
      "source": [
        "print(\"\\nMissing Values After Handling:\\n\", df.isna().sum())"
      ],
      "metadata": {
        "colab": {
          "base_uri": "https://localhost:8080/"
        },
        "outputId": "40cefb23-48c1-441e-b94d-23955ecc387d",
        "id": "YwcNyW7UJV87"
      },
      "execution_count": null,
      "outputs": [
        {
          "output_type": "stream",
          "name": "stdout",
          "text": [
            "\n",
            "Missing Values After Handling:\n",
            " PassengerId    0\n",
            "Survived       0\n",
            "Pclass         0\n",
            "Name           0\n",
            "Sex            0\n",
            "Age            0\n",
            "SibSp          0\n",
            "Parch          0\n",
            "Ticket         0\n",
            "Fare           0\n",
            "Embarked       0\n",
            "dtype: int64\n"
          ]
        }
      ]
    },
    {
      "cell_type": "markdown",
      "source": [
        "### Binning for Noise Handling"
      ],
      "metadata": {
        "id": "2-Q4LNicJV87"
      }
    },
    {
      "cell_type": "code",
      "source": [
        "# Original 'Age' column for comparison\n",
        "age_column = df['Age']\n",
        "\n",
        "# Equal-Width Binning for Smoothing\n",
        "bins = pd.cut(age_column, bins=4)  # Divide 'Age' into 4 equal-width bins\n",
        "df['Age_Smoothed_Mean'] = age_column.groupby(bins).transform('mean')  # Replace with mean\n",
        "df['Age_Smoothed_Median'] = age_column.groupby(bins).transform('median')  # Replace with median\n",
        "\n",
        "# Smoothing by Bin Boundaries\n",
        "def smooth_bin_boundaries(value, bin_intervals):\n",
        "    for interval in bin_intervals:\n",
        "        if value >= interval.left and value <= interval.right:\n",
        "            return interval.left if abs(value - interval.left) < abs(value - interval.right) else interval.right\n",
        "\n",
        "bin_intervals = pd.cut(age_column, bins=4).cat.categories\n",
        "df['Age_Smoothed_Boundaries'] = age_column.apply(lambda x: smooth_bin_boundaries(x, bin_intervals))"
      ],
      "metadata": {
        "colab": {
          "base_uri": "https://localhost:8080/"
        },
        "outputId": "11186187-7f53-4dfe-8f6e-efb8b7d5f0a3",
        "id": "Iwc2FizGJV87"
      },
      "execution_count": null,
      "outputs": [
        {
          "output_type": "stream",
          "name": "stderr",
          "text": [
            "<ipython-input-18-8f3b692dca4c>:6: FutureWarning: The default of observed=False is deprecated and will be changed to True in a future version of pandas. Pass observed=False to retain current behavior or observed=True to adopt the future default and silence this warning.\n",
            "  df['Age_Smoothed_Mean'] = age_column.groupby(bins).transform('mean')  # Replace with mean\n",
            "<ipython-input-18-8f3b692dca4c>:7: FutureWarning: The default of observed=False is deprecated and will be changed to True in a future version of pandas. Pass observed=False to retain current behavior or observed=True to adopt the future default and silence this warning.\n",
            "  df['Age_Smoothed_Median'] = age_column.groupby(bins).transform('median')  # Replace with median\n"
          ]
        }
      ]
    },
    {
      "cell_type": "code",
      "source": [
        "# View Smoothed Columns\n",
        "print(\"\\nSmoothed Age Columns:\")\n",
        "print(df[['Age', 'Age_Smoothed_Mean', 'Age_Smoothed_Median', 'Age_Smoothed_Boundaries']].head())\n",
        "\n",
        "# Visualizing the Smoothed Data\n",
        "plt.figure(figsize=(12, 6))\n",
        "plt.hist(df['Age'], bins=20, alpha=0.5, label='Original Age', edgecolor='k')\n",
        "plt.hist(df['Age_Smoothed_Mean'], bins=20, alpha=0.5, label='Smoothed Age (Mean)', edgecolor='k')\n",
        "plt.legend()\n",
        "plt.title('Comparison of Original vs Smoothed Age Distribution')\n",
        "plt.xlabel('Age')\n",
        "plt.ylabel('Frequency')\n",
        "plt.show()"
      ],
      "metadata": {
        "colab": {
          "base_uri": "https://localhost:8080/",
          "height": 703
        },
        "outputId": "86cb76fb-4bec-483c-bda4-3fe7898a7d1d",
        "id": "pzTcTwlGJV88"
      },
      "execution_count": null,
      "outputs": [
        {
          "output_type": "stream",
          "name": "stdout",
          "text": [
            "\n",
            "Smoothed Age Columns:\n",
            "    Age  Age_Smoothed_Mean  Age_Smoothed_Median  Age_Smoothed_Boundaries\n",
            "0  22.0          28.890569                 28.0                   20.315\n",
            "1  38.0          28.890569                 28.0                   40.210\n",
            "2  26.0          28.890569                 28.0                   20.315\n",
            "3  35.0          28.890569                 28.0                   40.210\n",
            "4  35.0          28.890569                 28.0                   40.210\n"
          ]
        },
        {
          "output_type": "display_data",
          "data": {
            "text/plain": [
              "<Figure size 1200x600 with 1 Axes>"
            ],
            "image/png": "[encoded data removed]"
          },
          "metadata": {}
        }
      ]
    },
    {
      "cell_type": "markdown",
      "source": [
        "### Min-Max Normalization (e.g., Age)"
      ],
      "metadata": {
        "id": "FT42F5agJV88"
      }
    },
    {
      "cell_type": "code",
      "source": [
        "scaler_minmax = MinMaxScaler(feature_range=(0, 1))\n",
        "df['Age_MinMax'] = scaler_minmax.fit_transform(df[['Age']])"
      ],
      "metadata": {
        "id": "bD_DjTu9JV88"
      },
      "execution_count": null,
      "outputs": []
    },
    {
      "cell_type": "markdown",
      "source": [
        "### Z-Score Normalization (e.g., Fare)"
      ],
      "metadata": {
        "id": "9vTl5m6DJV88"
      }
    },
    {
      "cell_type": "code",
      "source": [
        "scaler_zscore = StandardScaler()\n",
        "df['Fare_ZScore'] = scaler_zscore.fit_transform(df[['Fare']])"
      ],
      "metadata": {
        "id": "cSTDsYv4JV88"
      },
      "execution_count": null,
      "outputs": []
    },
    {
      "cell_type": "markdown",
      "source": [
        "### Decimal Scaling (e.g., Fare)"
      ],
      "metadata": {
        "id": "3lGpL6phJV89"
      }
    },
    {
      "cell_type": "code",
      "source": [
        "def decimal_scaling(column):\n",
        "    max_abs_value = np.max(np.abs(column))\n",
        "    scaling_factor = 10 ** np.ceil(np.log10(max_abs_value))\n",
        "    return column / scaling_factor\n",
        "\n",
        "df['Fare_Decimal'] = decimal_scaling(df['Fare'])"
      ],
      "metadata": {
        "id": "k658-T6QJV89"
      },
      "execution_count": null,
      "outputs": []
    }
  ]
}